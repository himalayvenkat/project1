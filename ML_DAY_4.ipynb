{
  "nbformat": 4,
  "nbformat_minor": 0,
  "metadata": {
    "colab": {
      "provenance": []
    },
    "kernelspec": {
      "name": "python3",
      "display_name": "Python 3"
    },
    "language_info": {
      "name": "python"
    }
  },
  "cells": [
    {
      "cell_type": "code",
      "execution_count": 1,
      "metadata": {
        "id": "T3Qfg8FJqT5x"
      },
      "outputs": [],
      "source": [
        "import numpy as np"
      ]
    },
    {
      "cell_type": "code",
      "source": [
        "a=[1,2,3,4]\n",
        "b=np.array(a)\n",
        "print(b)"
      ],
      "metadata": {
        "colab": {
          "base_uri": "https://localhost:8080/"
        },
        "id": "rKrdiVzdYguG",
        "outputId": "8a5bcc22-484a-4dad-b500-3deb76fe2ca5"
      },
      "execution_count": 2,
      "outputs": [
        {
          "output_type": "stream",
          "name": "stdout",
          "text": [
            "[1 2 3 4]\n"
          ]
        }
      ]
    },
    {
      "cell_type": "code",
      "source": [
        "b.reshape(4,1,1)"
      ],
      "metadata": {
        "colab": {
          "base_uri": "https://localhost:8080/"
        },
        "id": "o3rEXzGOYton",
        "outputId": "5a1838b6-7956-47bf-e612-9d40f4153326"
      },
      "execution_count": 3,
      "outputs": [
        {
          "output_type": "execute_result",
          "data": {
            "text/plain": [
              "array([[[1]],\n",
              "\n",
              "       [[2]],\n",
              "\n",
              "       [[3]],\n",
              "\n",
              "       [[4]]])"
            ]
          },
          "metadata": {},
          "execution_count": 3
        }
      ]
    },
    {
      "cell_type": "code",
      "source": [
        "#n dimensional array are only possible in the python"
      ],
      "metadata": {
        "id": "RcrhHf-gY0Sv"
      },
      "execution_count": 4,
      "outputs": []
    },
    {
      "cell_type": "code",
      "source": [
        "a=np.random.rand(5,2,3)\n",
        "print(a)"
      ],
      "metadata": {
        "colab": {
          "base_uri": "https://localhost:8080/"
        },
        "id": "KJ1ofzL6ZIxH",
        "outputId": "dff6a4a2-8be3-4346-f083-2c48dd1a929f"
      },
      "execution_count": 10,
      "outputs": [
        {
          "output_type": "stream",
          "name": "stdout",
          "text": [
            "[[[0.5847578  0.53190934 0.40764432]\n",
            "  [0.18208199 0.67110628 0.64467907]]\n",
            "\n",
            " [[0.05134281 0.74191576 0.00686809]\n",
            "  [0.56063393 0.69779032 0.75863148]]\n",
            "\n",
            " [[0.85838317 0.05700649 0.03591641]\n",
            "  [0.45147106 0.26856215 0.11285468]]\n",
            "\n",
            " [[0.24507733 0.85630647 0.6243021 ]\n",
            "  [0.63276949 0.57688254 0.1607648 ]]\n",
            "\n",
            " [[0.65339083 0.91556483 0.24962673]\n",
            "  [0.62061375 0.61597445 0.37460333]]]\n"
          ]
        }
      ]
    },
    {
      "cell_type": "code",
      "source": [
        "np.ones([5,3,3])"
      ],
      "metadata": {
        "colab": {
          "base_uri": "https://localhost:8080/"
        },
        "id": "XkeFeON7ZrQo",
        "outputId": "6a165dc7-e309-4ee3-9a18-4ec85f44fbf6"
      },
      "execution_count": 11,
      "outputs": [
        {
          "output_type": "execute_result",
          "data": {
            "text/plain": [
              "array([[[1., 1., 1.],\n",
              "        [1., 1., 1.],\n",
              "        [1., 1., 1.]],\n",
              "\n",
              "       [[1., 1., 1.],\n",
              "        [1., 1., 1.],\n",
              "        [1., 1., 1.]],\n",
              "\n",
              "       [[1., 1., 1.],\n",
              "        [1., 1., 1.],\n",
              "        [1., 1., 1.]],\n",
              "\n",
              "       [[1., 1., 1.],\n",
              "        [1., 1., 1.],\n",
              "        [1., 1., 1.]],\n",
              "\n",
              "       [[1., 1., 1.],\n",
              "        [1., 1., 1.],\n",
              "        [1., 1., 1.]]])"
            ]
          },
          "metadata": {},
          "execution_count": 11
        }
      ]
    },
    {
      "cell_type": "code",
      "source": [
        "np.zeros([5,3,3])"
      ],
      "metadata": {
        "colab": {
          "base_uri": "https://localhost:8080/"
        },
        "id": "Dg_S7_TuZtJF",
        "outputId": "2c8afd9d-d80d-4268-81c7-e1db8b7f85ac"
      },
      "execution_count": 12,
      "outputs": [
        {
          "output_type": "execute_result",
          "data": {
            "text/plain": [
              "array([[[0., 0., 0.],\n",
              "        [0., 0., 0.],\n",
              "        [0., 0., 0.]],\n",
              "\n",
              "       [[0., 0., 0.],\n",
              "        [0., 0., 0.],\n",
              "        [0., 0., 0.]],\n",
              "\n",
              "       [[0., 0., 0.],\n",
              "        [0., 0., 0.],\n",
              "        [0., 0., 0.]],\n",
              "\n",
              "       [[0., 0., 0.],\n",
              "        [0., 0., 0.],\n",
              "        [0., 0., 0.]],\n",
              "\n",
              "       [[0., 0., 0.],\n",
              "        [0., 0., 0.],\n",
              "        [0., 0., 0.]]])"
            ]
          },
          "metadata": {},
          "execution_count": 12
        }
      ]
    },
    {
      "cell_type": "code",
      "source": [
        "np.eye(3,3,0,order='C')"
      ],
      "metadata": {
        "colab": {
          "base_uri": "https://localhost:8080/"
        },
        "id": "ZFYj0t3JaebE",
        "outputId": "266e66ff-1ab5-46cc-841b-b6fb570310d0"
      },
      "execution_count": 19,
      "outputs": [
        {
          "output_type": "execute_result",
          "data": {
            "text/plain": [
              "array([[1., 0., 0.],\n",
              "       [0., 1., 0.],\n",
              "       [0., 0., 1.]])"
            ]
          },
          "metadata": {},
          "execution_count": 19
        }
      ]
    },
    {
      "cell_type": "code",
      "source": [
        "arr1 = np.array(100)\n",
        "arr2= np.array([1,2,3,4,5])\n",
        "arr3 = np.array([[1,2,3],[4,5,6]])\n",
        "arr4 = np.array([[[1,2,3],[4,5,6]],[[1,2,3],[4,5,6]]])\n",
        "print(arr1)\n",
        "print(arr4.ndim)"
      ],
      "metadata": {
        "colab": {
          "base_uri": "https://localhost:8080/"
        },
        "id": "b6Fgq25Rav3G",
        "outputId": "d7afbd06-3dc4-4f86-9201-ed4fd1fa1a3c"
      },
      "execution_count": 22,
      "outputs": [
        {
          "output_type": "stream",
          "name": "stdout",
          "text": [
            "100\n",
            "3\n"
          ]
        }
      ]
    },
    {
      "cell_type": "code",
      "source": [
        "arr5 = np.array([1,2,3,4,5],ndmin=5)\n",
        "print(arr5)\n",
        "# By this output the 5th dim has 5 elements and remaining has one element only"
      ],
      "metadata": {
        "colab": {
          "base_uri": "https://localhost:8080/"
        },
        "id": "apexK-Ypbbl1",
        "outputId": "4216798f-64be-433b-eb46-92a1b298180d"
      },
      "execution_count": 25,
      "outputs": [
        {
          "output_type": "stream",
          "name": "stdout",
          "text": [
            "[[[[[1 2 3 4 5]]]]]\n"
          ]
        }
      ]
    },
    {
      "cell_type": "code",
      "source": [
        "arr5 = np.array([1,2,3,4,5],ndmin=5)\n",
        "print(arr5)"
      ],
      "metadata": {
        "colab": {
          "base_uri": "https://localhost:8080/",
          "height": 248
        },
        "id": "bwYcNaAUbw-6",
        "outputId": "81d263b7-ceca-4ae7-faaf-3d3c69cd063c"
      },
      "execution_count": 26,
      "outputs": [
        {
          "output_type": "stream",
          "name": "stderr",
          "text": [
            "<>:1: SyntaxWarning: list indices must be integers or slices, not tuple; perhaps you missed a comma?\n",
            "<>:1: SyntaxWarning: list indices must be integers or slices, not tuple; perhaps you missed a comma?\n",
            "<ipython-input-26-c023f1387bbd>:1: SyntaxWarning: list indices must be integers or slices, not tuple; perhaps you missed a comma?\n",
            "  arr5 = np.array([1,2,3,4,5][1,2,3],ndmin=5)\n"
          ]
        },
        {
          "output_type": "error",
          "ename": "TypeError",
          "evalue": "list indices must be integers or slices, not tuple",
          "traceback": [
            "\u001b[0;31m---------------------------------------------------------------------------\u001b[0m",
            "\u001b[0;31mTypeError\u001b[0m                                 Traceback (most recent call last)",
            "\u001b[0;32m<ipython-input-26-c023f1387bbd>\u001b[0m in \u001b[0;36m<cell line: 1>\u001b[0;34m()\u001b[0m\n\u001b[0;32m----> 1\u001b[0;31m \u001b[0marr5\u001b[0m \u001b[0;34m=\u001b[0m \u001b[0mnp\u001b[0m\u001b[0;34m.\u001b[0m\u001b[0marray\u001b[0m\u001b[0;34m(\u001b[0m\u001b[0;34m[\u001b[0m\u001b[0;36m1\u001b[0m\u001b[0;34m,\u001b[0m\u001b[0;36m2\u001b[0m\u001b[0;34m,\u001b[0m\u001b[0;36m3\u001b[0m\u001b[0;34m,\u001b[0m\u001b[0;36m4\u001b[0m\u001b[0;34m,\u001b[0m\u001b[0;36m5\u001b[0m\u001b[0;34m]\u001b[0m\u001b[0;34m[\u001b[0m\u001b[0;36m1\u001b[0m\u001b[0;34m,\u001b[0m\u001b[0;36m2\u001b[0m\u001b[0;34m,\u001b[0m\u001b[0;36m3\u001b[0m\u001b[0;34m]\u001b[0m\u001b[0;34m,\u001b[0m\u001b[0mndmin\u001b[0m\u001b[0;34m=\u001b[0m\u001b[0;36m5\u001b[0m\u001b[0;34m)\u001b[0m\u001b[0;34m\u001b[0m\u001b[0;34m\u001b[0m\u001b[0m\n\u001b[0m\u001b[1;32m      2\u001b[0m \u001b[0mprint\u001b[0m\u001b[0;34m(\u001b[0m\u001b[0marr5\u001b[0m\u001b[0;34m)\u001b[0m\u001b[0;34m\u001b[0m\u001b[0;34m\u001b[0m\u001b[0m\n",
            "\u001b[0;31mTypeError\u001b[0m: list indices must be integers or slices, not tuple"
          ]
        }
      ]
    },
    {
      "cell_type": "code",
      "source": [
        "a=[1,2,3,4,5,6,7,8,9,0]\n",
        "a=np.array(a)\n",
        "b=a.reshape(5,1,2)\n",
        "print(b,b.ndim)"
      ],
      "metadata": {
        "colab": {
          "base_uri": "https://localhost:8080/"
        },
        "id": "Ls3ys_sNcXj9",
        "outputId": "7d83b05b-8bbf-46bb-9366-f75c61f9fe28"
      },
      "execution_count": 29,
      "outputs": [
        {
          "output_type": "stream",
          "name": "stdout",
          "text": [
            "[[[1 2]]\n",
            "\n",
            " [[3 4]]\n",
            "\n",
            " [[5 6]]\n",
            "\n",
            " [[7 8]]\n",
            "\n",
            " [[9 0]]] 3\n"
          ]
        }
      ]
    },
    {
      "cell_type": "code",
      "source": [
        "# How to access the array\n",
        "print(b[0][0][1])"
      ],
      "metadata": {
        "colab": {
          "base_uri": "https://localhost:8080/"
        },
        "id": "jb7Y_r-hdL1q",
        "outputId": "223749ed-2479-4e6a-c771-93684a6e51af"
      },
      "execution_count": 30,
      "outputs": [
        {
          "output_type": "stream",
          "name": "stdout",
          "text": [
            "2\n"
          ]
        }
      ]
    },
    {
      "cell_type": "code",
      "source": [
        "print(b[0][0][::1])"
      ],
      "metadata": {
        "colab": {
          "base_uri": "https://localhost:8080/"
        },
        "id": "iJw62VFrd4YT",
        "outputId": "c97fe406-35a8-458d-e46f-356a620a898a"
      },
      "execution_count": 33,
      "outputs": [
        {
          "output_type": "stream",
          "name": "stdout",
          "text": [
            "[1 2]\n"
          ]
        }
      ]
    },
    {
      "cell_type": "code",
      "source": [
        "print(b[0][0][::2])"
      ],
      "metadata": {
        "colab": {
          "base_uri": "https://localhost:8080/"
        },
        "id": "AMtyjd-IeAt_",
        "outputId": "39d73cdb-4b9b-415c-a6d6-f3defddd080d"
      },
      "execution_count": 34,
      "outputs": [
        {
          "output_type": "stream",
          "name": "stdout",
          "text": [
            "[1]\n"
          ]
        }
      ]
    },
    {
      "cell_type": "code",
      "source": [
        "print(b[0][0][::-1])"
      ],
      "metadata": {
        "colab": {
          "base_uri": "https://localhost:8080/"
        },
        "id": "sEXrMmM8eK6P",
        "outputId": "f9a5e47b-7761-43e9-a675-acf897b89dd4"
      },
      "execution_count": 35,
      "outputs": [
        {
          "output_type": "stream",
          "name": "stdout",
          "text": [
            "[2 1]\n"
          ]
        }
      ]
    },
    {
      "cell_type": "code",
      "source": [
        "ar1 = np.array([[1,2,3],[4,5,6]])\n",
        "print(ar1[0][:2])"
      ],
      "metadata": {
        "colab": {
          "base_uri": "https://localhost:8080/"
        },
        "id": "8k2mBETxeX0Z",
        "outputId": "4fd6dd81-10ee-4268-b896-73b8f77394e0"
      },
      "execution_count": 38,
      "outputs": [
        {
          "output_type": "stream",
          "name": "stdout",
          "text": [
            "[1 2]\n"
          ]
        }
      ]
    },
    {
      "cell_type": "code",
      "source": [
        "print(ar1[0,1])"
      ],
      "metadata": {
        "colab": {
          "base_uri": "https://localhost:8080/"
        },
        "id": "EqEWRpZNelrr",
        "outputId": "852249ee-4680-4398-ff62-b5f790e7cbe4"
      },
      "execution_count": 39,
      "outputs": [
        {
          "output_type": "stream",
          "name": "stdout",
          "text": [
            "2\n"
          ]
        }
      ]
    },
    {
      "cell_type": "code",
      "source": [
        "print(ar1[0,:2])"
      ],
      "metadata": {
        "colab": {
          "base_uri": "https://localhost:8080/"
        },
        "id": "9uU5ioKpfNiO",
        "outputId": "c7bc20ee-df1d-4997-c8fc-1b9a1d91d4dd"
      },
      "execution_count": 42,
      "outputs": [
        {
          "output_type": "stream",
          "name": "stdout",
          "text": [
            "[1 2]\n"
          ]
        }
      ]
    },
    {
      "cell_type": "code",
      "source": [
        "ar2 = np.array([1,2,3,4,5])\n",
        "l=ar2[1:4]\n",
        "print(l)\n",
        "print(type(l))"
      ],
      "metadata": {
        "colab": {
          "base_uri": "https://localhost:8080/"
        },
        "id": "YdTWIKU8fUyS",
        "outputId": "3685cc43-f0ab-4ef8-dd6f-a59cb2ffc22b"
      },
      "execution_count": 44,
      "outputs": [
        {
          "output_type": "stream",
          "name": "stdout",
          "text": [
            "[2 3 4]\n",
            "<class 'numpy.ndarray'>\n"
          ]
        }
      ]
    },
    {
      "cell_type": "code",
      "source": [
        "ar3 = np.array([1,2,3,4,5,\"Ntt\"])\n",
        "print(ar3.dtype)\n",
        "#u21\n",
        "# What ever highest datatype that will come in the response"
      ],
      "metadata": {
        "colab": {
          "base_uri": "https://localhost:8080/"
        },
        "id": "KMnjtIXliVDE",
        "outputId": "7ebe7212-d39c-48ed-98e0-d4a848a3ef68"
      },
      "execution_count": 47,
      "outputs": [
        {
          "output_type": "stream",
          "name": "stdout",
          "text": [
            "<U21\n"
          ]
        }
      ]
    },
    {
      "cell_type": "code",
      "source": [
        "ar1 = np.array([1,2,3,4,5],dtype = 'int')\n",
        "print(ar1)"
      ],
      "metadata": {
        "colab": {
          "base_uri": "https://localhost:8080/"
        },
        "id": "y21NTxJulveV",
        "outputId": "7072f6ed-612e-4d35-e3b2-fc32a077748b"
      },
      "execution_count": 48,
      "outputs": [
        {
          "output_type": "stream",
          "name": "stdout",
          "text": [
            "[1 2 3 4 5]\n"
          ]
        }
      ]
    },
    {
      "cell_type": "code",
      "source": [
        "ar1 = np.array([1,2,3,4,5],dtype = 'S')\n",
        "print(ar1)\n",
        "print(ar1.dtype)\n",
        "#i4 = int32\n",
        "#i8 = int64\n",
        "#S = string"
      ],
      "metadata": {
        "colab": {
          "base_uri": "https://localhost:8080/"
        },
        "id": "9phK7fPTnVTD",
        "outputId": "01fd92be-57f0-4d14-fc37-f0e69fce8d23"
      },
      "execution_count": 50,
      "outputs": [
        {
          "output_type": "stream",
          "name": "stdout",
          "text": [
            "[b'1' b'2' b'3' b'4' b'5']\n",
            "|S1\n"
          ]
        }
      ]
    },
    {
      "cell_type": "code",
      "source": [
        "ar1 = np.array([1,2,3,4,5])\n",
        "na = ar1.astype('i')\n",
        "# in place of i we can use 'int','bool' also\n",
        "print(na)\n",
        "print(na.dtype)"
      ],
      "metadata": {
        "colab": {
          "base_uri": "https://localhost:8080/"
        },
        "id": "3u1ZPn9CnYDr",
        "outputId": "1312ee99-666f-4523-c125-4a0e128321a7"
      },
      "execution_count": 51,
      "outputs": [
        {
          "output_type": "stream",
          "name": "stdout",
          "text": [
            "[1 2 3 4 5]\n",
            "int32\n"
          ]
        }
      ]
    },
    {
      "cell_type": "code",
      "source": [
        "# copy and view\n",
        "#copy = new a new array\n",
        "#view = it will not create new array\n",
        "ar1 = np.array([1,2,3,4,5])\n",
        "x=ar1.copy()\n",
        "ar1[0]=42\n",
        "print(x)\n",
        "print(ar1)"
      ],
      "metadata": {
        "colab": {
          "base_uri": "https://localhost:8080/"
        },
        "id": "PxFZbFfooewz",
        "outputId": "60dcecf9-3ef9-4da5-ae8c-a472de11959c"
      },
      "execution_count": 52,
      "outputs": [
        {
          "output_type": "stream",
          "name": "stdout",
          "text": [
            "[1 2 3 4 5]\n",
            "[42  2  3  4  5]\n"
          ]
        }
      ]
    },
    {
      "cell_type": "code",
      "source": [
        "ar1 = np.array([1,2,3,4,5])\n",
        "x=ar1.view()\n",
        "ar1[0]=42\n",
        "print(x)\n",
        "print(ar1)"
      ],
      "metadata": {
        "colab": {
          "base_uri": "https://localhost:8080/"
        },
        "id": "Hx26DA20po1-",
        "outputId": "eecefb40-4df6-4324-c4b8-782013c85a66"
      },
      "execution_count": 53,
      "outputs": [
        {
          "output_type": "stream",
          "name": "stdout",
          "text": [
            "[42  2  3  4  5]\n",
            "[42  2  3  4  5]\n"
          ]
        }
      ]
    },
    {
      "cell_type": "code",
      "source": [
        "# numpy array shape\n",
        "# shape tells the dimension of the array\n",
        "ar1 = np.array([[1,2,3],[4,5,6]])\n",
        "print(ar1.shape)"
      ],
      "metadata": {
        "colab": {
          "base_uri": "https://localhost:8080/"
        },
        "id": "WhLS4eG0pw3R",
        "outputId": "b9265ea6-6c03-483f-c7fe-0906afba491d"
      },
      "execution_count": 55,
      "outputs": [
        {
          "output_type": "stream",
          "name": "stdout",
          "text": [
            "(2, 3)\n"
          ]
        }
      ]
    },
    {
      "cell_type": "code",
      "source": [
        "ar1 = np.array([[[[1,2,3],[4,5,6]],[[1,2,3],[4,5,6]]],[[[1,2,3],[4,5,6]],[[1,2,3],[4,5,6]]]])\n",
        "print(ar1.shape)"
      ],
      "metadata": {
        "colab": {
          "base_uri": "https://localhost:8080/"
        },
        "id": "S6vJKBA9qP4n",
        "outputId": "ce6e8bb5-ed5b-401d-dd27-bc7b87f416cf"
      },
      "execution_count": 57,
      "outputs": [
        {
          "output_type": "stream",
          "name": "stdout",
          "text": [
            "(2, 2, 2, 3)\n"
          ]
        }
      ]
    },
    {
      "cell_type": "code",
      "source": [
        "# we can convert a array to into different shape\n",
        "# reshape()\n",
        "a=np.array([1,2,3,4])\n",
        "b=a.reshape(4,1)\n",
        "print(b)\n",
        "print(b.shape)"
      ],
      "metadata": {
        "colab": {
          "base_uri": "https://localhost:8080/"
        },
        "id": "DDLnAcHbqcXr",
        "outputId": "dd22f86e-6812-4243-c809-2216d75a0431"
      },
      "execution_count": 59,
      "outputs": [
        {
          "output_type": "stream",
          "name": "stdout",
          "text": [
            "[[1]\n",
            " [2]\n",
            " [3]\n",
            " [4]]\n",
            "(4, 1)\n"
          ]
        }
      ]
    },
    {
      "cell_type": "code",
      "source": [
        "a=np.array([1,2,3,4,5,6,7,8,9,10,11,12])\n",
        "b=a.reshape(4,3)\n",
        "c=a.reshape(2,2,3)\n",
        "print(b)\n",
        "print('###############################')\n",
        "print(c)\n",
        "for i in c:\n",
        "  print(i)\n",
        "  print('0000000000000000')\n",
        "print(b.shape)"
      ],
      "metadata": {
        "colab": {
          "base_uri": "https://localhost:8080/"
        },
        "id": "14J2JdX7rrpA",
        "outputId": "d5c34666-7824-4084-dc6c-10575804b935"
      },
      "execution_count": 64,
      "outputs": [
        {
          "output_type": "stream",
          "name": "stdout",
          "text": [
            "[[ 1  2  3]\n",
            " [ 4  5  6]\n",
            " [ 7  8  9]\n",
            " [10 11 12]]\n",
            "###############################\n",
            "[[[ 1  2  3]\n",
            "  [ 4  5  6]]\n",
            "\n",
            " [[ 7  8  9]\n",
            "  [10 11 12]]]\n",
            "[[1 2 3]\n",
            " [4 5 6]]\n",
            "0000000000000000\n",
            "[[ 7  8  9]\n",
            " [10 11 12]]\n",
            "0000000000000000\n",
            "(4, 3)\n"
          ]
        }
      ]
    },
    {
      "cell_type": "code",
      "source": [
        "# reshape(2,3,?) That ? can be replaced with -1 so that the system will calculate\n",
        "# We can use -1 at any position"
      ],
      "metadata": {
        "id": "kIZF-Gibr9d7"
      },
      "execution_count": 65,
      "outputs": []
    },
    {
      "cell_type": "code",
      "source": [
        "a=np.array([1,2,3,4,5,6,7,8,9,10,11,12])\n",
        "b=a.reshape(4,3)\n",
        "c=a.reshape(2,2,3)\n",
        "d=a.reshape(2,-1,2)\n",
        "print(d)\n",
        "e = a.reshape(-1) # its a one dimensional array\n",
        "print(e)"
      ],
      "metadata": {
        "colab": {
          "base_uri": "https://localhost:8080/"
        },
        "id": "De4dG_ltvQ0q",
        "outputId": "78a52025-3988-4ba7-8d6a-74935c0e63ec"
      },
      "execution_count": 67,
      "outputs": [
        {
          "output_type": "stream",
          "name": "stdout",
          "text": [
            "[[[ 1  2]\n",
            "  [ 3  4]\n",
            "  [ 5  6]]\n",
            "\n",
            " [[ 7  8]\n",
            "  [ 9 10]\n",
            "  [11 12]]]\n",
            "[ 1  2  3  4  5  6  7  8  9 10 11 12]\n"
          ]
        }
      ]
    },
    {
      "cell_type": "code",
      "source": [],
      "metadata": {
        "id": "AsJlr7KBv1gg"
      },
      "execution_count": null,
      "outputs": []
    }
  ]
}