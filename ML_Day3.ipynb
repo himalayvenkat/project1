{
  "nbformat": 4,
  "nbformat_minor": 0,
  "metadata": {
    "colab": {
      "provenance": []
    },
    "kernelspec": {
      "name": "python3",
      "display_name": "Python 3"
    },
    "language_info": {
      "name": "python"
    }
  },
  "cells": [
    {
      "cell_type": "code",
      "execution_count": 2,
      "metadata": {
        "colab": {
          "base_uri": "https://localhost:8080/"
        },
        "id": "ZkJ10K5o3YG6",
        "outputId": "416c9a63-39cf-4378-df2b-3b8c3b959ae6"
      },
      "outputs": [
        {
          "output_type": "stream",
          "name": "stdout",
          "text": [
            "day-3\n"
          ]
        }
      ],
      "source": [
        "print(\"day-3\")"
      ]
    },
    {
      "cell_type": "code",
      "source": [
        "# tuple"
      ],
      "metadata": {
        "id": "BEz2xpBg6RdZ"
      },
      "execution_count": 6,
      "outputs": []
    },
    {
      "cell_type": "code",
      "source": [
        "a=(1,2,3)\n",
        "print(a)\n",
        "print(a[0])"
      ],
      "metadata": {
        "colab": {
          "base_uri": "https://localhost:8080/"
        },
        "id": "6u3juRrl8N0T",
        "outputId": "0a5a21e5-aa3e-4b7b-f3ef-c6932a233245"
      },
      "execution_count": 7,
      "outputs": [
        {
          "output_type": "stream",
          "name": "stdout",
          "text": [
            "(1, 2, 3)\n",
            "1\n"
          ]
        }
      ]
    },
    {
      "cell_type": "code",
      "source": [
        "a[0]=55"
      ],
      "metadata": {
        "colab": {
          "base_uri": "https://localhost:8080/",
          "height": 141
        },
        "id": "v0W_Udvf8RWZ",
        "outputId": "c3b147e3-57c8-4b93-9a84-ef64d8981ff3"
      },
      "execution_count": 8,
      "outputs": [
        {
          "output_type": "error",
          "ename": "TypeError",
          "evalue": "'tuple' object does not support item assignment",
          "traceback": [
            "\u001b[0;31m---------------------------------------------------------------------------\u001b[0m",
            "\u001b[0;31mTypeError\u001b[0m                                 Traceback (most recent call last)",
            "\u001b[0;32m<ipython-input-8-be0e8882f214>\u001b[0m in \u001b[0;36m<cell line: 1>\u001b[0;34m()\u001b[0m\n\u001b[0;32m----> 1\u001b[0;31m \u001b[0ma\u001b[0m\u001b[0;34m[\u001b[0m\u001b[0;36m0\u001b[0m\u001b[0;34m]\u001b[0m\u001b[0;34m=\u001b[0m\u001b[0;36m55\u001b[0m\u001b[0;34m\u001b[0m\u001b[0;34m\u001b[0m\u001b[0m\n\u001b[0m",
            "\u001b[0;31mTypeError\u001b[0m: 'tuple' object does not support item assignment"
          ]
        }
      ]
    },
    {
      "cell_type": "code",
      "source": [
        "# in tuple we cannot change anything\n"
      ],
      "metadata": {
        "id": "9CKmZQf98T80"
      },
      "execution_count": 9,
      "outputs": []
    },
    {
      "cell_type": "code",
      "source": [
        "a.append(30)\n",
        "# we can not append also even deleting is also not possible"
      ],
      "metadata": {
        "colab": {
          "base_uri": "https://localhost:8080/",
          "height": 141
        },
        "id": "kXIVkcTr9KYS",
        "outputId": "474a09af-6b97-4538-8d45-4f181407bff1"
      },
      "execution_count": 11,
      "outputs": [
        {
          "output_type": "error",
          "ename": "AttributeError",
          "evalue": "'tuple' object has no attribute 'append'",
          "traceback": [
            "\u001b[0;31m---------------------------------------------------------------------------\u001b[0m",
            "\u001b[0;31mAttributeError\u001b[0m                            Traceback (most recent call last)",
            "\u001b[0;32m<ipython-input-11-34bb125e31f9>\u001b[0m in \u001b[0;36m<cell line: 1>\u001b[0;34m()\u001b[0m\n\u001b[0;32m----> 1\u001b[0;31m \u001b[0ma\u001b[0m\u001b[0;34m.\u001b[0m\u001b[0mappend\u001b[0m\u001b[0;34m(\u001b[0m\u001b[0;36m30\u001b[0m\u001b[0;34m)\u001b[0m\u001b[0;34m\u001b[0m\u001b[0;34m\u001b[0m\u001b[0m\n\u001b[0m",
            "\u001b[0;31mAttributeError\u001b[0m: 'tuple' object has no attribute 'append'"
          ]
        }
      ]
    },
    {
      "cell_type": "code",
      "source": [
        "# we can iterate through the tuple\n"
      ],
      "metadata": {
        "id": "tgs-BVYu9kD4"
      },
      "execution_count": 12,
      "outputs": []
    },
    {
      "cell_type": "code",
      "source": [
        "b= tuple((1,2,3,4,'ntt'))\n",
        "print(b)\n",
        "print(type(b))"
      ],
      "metadata": {
        "colab": {
          "base_uri": "https://localhost:8080/"
        },
        "id": "cik2Pw82-HL6",
        "outputId": "eee10f45-0c54-4a5d-926c-504c816b3b7d"
      },
      "execution_count": 15,
      "outputs": [
        {
          "output_type": "stream",
          "name": "stdout",
          "text": [
            "(1, 2, 3, 4, 'ntt')\n",
            "<class 'tuple'>\n"
          ]
        }
      ]
    },
    {
      "cell_type": "code",
      "source": [
        "c= tuple((1,1,2,3,4,'ntt'))\n",
        "print(c)"
      ],
      "metadata": {
        "colab": {
          "base_uri": "https://localhost:8080/"
        },
        "id": "P1UPP-Yk-o-H",
        "outputId": "b42e5c71-e95d-4d47-9f65-74cee97213f2"
      },
      "execution_count": 16,
      "outputs": [
        {
          "output_type": "stream",
          "name": "stdout",
          "text": [
            "(1, 1, 2, 3, 4, 'ntt')\n"
          ]
        }
      ]
    },
    {
      "cell_type": "code",
      "source": [
        "a=[1,2,3]\n",
        "b=tuple(a)\n",
        "print(b)"
      ],
      "metadata": {
        "id": "iR63X3h5_WNt",
        "outputId": "960673a1-b526-4fe7-b817-afee16479b9b",
        "colab": {
          "base_uri": "https://localhost:8080/"
        }
      },
      "execution_count": 17,
      "outputs": [
        {
          "output_type": "stream",
          "name": "stdout",
          "text": [
            "(1, 2, 3)\n"
          ]
        }
      ]
    },
    {
      "cell_type": "code",
      "source": [
        "a=tuple(9)\n",
        "print(a)"
      ],
      "metadata": {
        "id": "hPmEzKEUAx9L",
        "outputId": "3c02ce07-932b-4e6c-a4fb-db58a6829b9d",
        "colab": {
          "base_uri": "https://localhost:8080/",
          "height": 158
        }
      },
      "execution_count": 18,
      "outputs": [
        {
          "output_type": "error",
          "ename": "TypeError",
          "evalue": "'int' object is not iterable",
          "traceback": [
            "\u001b[0;31m---------------------------------------------------------------------------\u001b[0m",
            "\u001b[0;31mTypeError\u001b[0m                                 Traceback (most recent call last)",
            "\u001b[0;32m<ipython-input-18-c798cb139775>\u001b[0m in \u001b[0;36m<cell line: 1>\u001b[0;34m()\u001b[0m\n\u001b[0;32m----> 1\u001b[0;31m \u001b[0ma\u001b[0m\u001b[0;34m=\u001b[0m\u001b[0mtuple\u001b[0m\u001b[0;34m(\u001b[0m\u001b[0;36m9\u001b[0m\u001b[0;34m)\u001b[0m\u001b[0;34m\u001b[0m\u001b[0;34m\u001b[0m\u001b[0m\n\u001b[0m\u001b[1;32m      2\u001b[0m \u001b[0mprint\u001b[0m\u001b[0;34m(\u001b[0m\u001b[0ma\u001b[0m\u001b[0;34m)\u001b[0m\u001b[0;34m\u001b[0m\u001b[0;34m\u001b[0m\u001b[0m\n",
            "\u001b[0;31mTypeError\u001b[0m: 'int' object is not iterable"
          ]
        }
      ]
    },
    {
      "cell_type": "code",
      "source": [
        "a=tuple((10))"
      ],
      "metadata": {
        "id": "6rNkaaAsBS-x",
        "outputId": "2666ada1-37b1-4e83-b199-379112a7ae09",
        "colab": {
          "base_uri": "https://localhost:8080/",
          "height": 141
        }
      },
      "execution_count": 19,
      "outputs": [
        {
          "output_type": "error",
          "ename": "TypeError",
          "evalue": "'int' object is not iterable",
          "traceback": [
            "\u001b[0;31m---------------------------------------------------------------------------\u001b[0m",
            "\u001b[0;31mTypeError\u001b[0m                                 Traceback (most recent call last)",
            "\u001b[0;32m<ipython-input-19-0e911970e64f>\u001b[0m in \u001b[0;36m<cell line: 1>\u001b[0;34m()\u001b[0m\n\u001b[0;32m----> 1\u001b[0;31m \u001b[0ma\u001b[0m\u001b[0;34m=\u001b[0m\u001b[0mtuple\u001b[0m\u001b[0;34m(\u001b[0m\u001b[0;34m(\u001b[0m\u001b[0;36m10\u001b[0m\u001b[0;34m)\u001b[0m\u001b[0;34m)\u001b[0m\u001b[0;34m\u001b[0m\u001b[0;34m\u001b[0m\u001b[0m\n\u001b[0m",
            "\u001b[0;31mTypeError\u001b[0m: 'int' object is not iterable"
          ]
        }
      ]
    },
    {
      "cell_type": "code",
      "source": [
        "# to add one element"
      ],
      "metadata": {
        "id": "4aPmVnqaBWb3"
      },
      "execution_count": 20,
      "outputs": []
    },
    {
      "cell_type": "code",
      "source": [
        "a=tuple((10,))\n",
        "print(a)"
      ],
      "metadata": {
        "id": "fu_PxzTnBd8T",
        "outputId": "c5925058-b96b-4f3f-c925-6629f46c3e6f",
        "colab": {
          "base_uri": "https://localhost:8080/"
        }
      },
      "execution_count": 21,
      "outputs": [
        {
          "output_type": "stream",
          "name": "stdout",
          "text": [
            "(10,)\n"
          ]
        }
      ]
    },
    {
      "cell_type": "code",
      "source": [
        "a=tuple(('him'))\n",
        "print(a)"
      ],
      "metadata": {
        "id": "-7E4w5q-Bijp",
        "outputId": "106f075f-f6b0-4e2c-ca83-7cc206214fb9",
        "colab": {
          "base_uri": "https://localhost:8080/"
        }
      },
      "execution_count": 22,
      "outputs": [
        {
          "output_type": "stream",
          "name": "stdout",
          "text": [
            "('h', 'i', 'm')\n"
          ]
        }
      ]
    },
    {
      "cell_type": "code",
      "source": [
        "a=tuple(['him'])\n",
        "print(a)\n",
        "a=tuple((\"him\"))\n",
        "print(a)"
      ],
      "metadata": {
        "id": "osJUTNmuBryR",
        "outputId": "0e5971c0-2fa4-4fe3-ac1c-b9868b301cd4",
        "colab": {
          "base_uri": "https://localhost:8080/"
        }
      },
      "execution_count": 25,
      "outputs": [
        {
          "output_type": "stream",
          "name": "stdout",
          "text": [
            "('him',)\n",
            "('h', 'i', 'm')\n"
          ]
        }
      ]
    },
    {
      "cell_type": "code",
      "source": [
        "a=[1,2,3]\n",
        "b=[22,33,44]\n",
        "c=tuple(a)\n",
        "print(c)"
      ],
      "metadata": {
        "id": "Td8AJ4JsB_nA",
        "outputId": "090301d1-2d3d-45a9-a8b5-205709cde894",
        "colab": {
          "base_uri": "https://localhost:8080/"
        }
      },
      "execution_count": 28,
      "outputs": [
        {
          "output_type": "stream",
          "name": "stdout",
          "text": [
            "(1, 2, 3)\n"
          ]
        }
      ]
    },
    {
      "cell_type": "code",
      "source": [
        "a=(1,2,4,3,5,6,7)\n",
        "print(a[0])\n",
        "print(a[-1])\n",
        "print(a[0:5])\n",
        "print(a[0:5:2])"
      ],
      "metadata": {
        "id": "9uCbvYMaFcWv",
        "outputId": "8babacd1-1ad6-4230-d74b-7e682021b551",
        "colab": {
          "base_uri": "https://localhost:8080/"
        }
      },
      "execution_count": 33,
      "outputs": [
        {
          "output_type": "stream",
          "name": "stdout",
          "text": [
            "1\n",
            "7\n",
            "(1, 2, 4, 3, 5)\n",
            "(1, 4, 5)\n"
          ]
        }
      ]
    },
    {
      "cell_type": "code",
      "source": [
        "if 2 in a:\n",
        "  print('yes')\n",
        "else:\n",
        "  print('no')"
      ],
      "metadata": {
        "id": "xYCVxEDUFwtQ",
        "outputId": "7526fcf7-cbba-450d-fdfa-cb34932cdd5f",
        "colab": {
          "base_uri": "https://localhost:8080/"
        }
      },
      "execution_count": 34,
      "outputs": [
        {
          "output_type": "stream",
          "name": "stdout",
          "text": [
            "yes\n"
          ]
        }
      ]
    },
    {
      "cell_type": "code",
      "source": [
        "# indirect method to add a element in tuple\n",
        "a=(1,2)\n",
        "b=list(a)\n",
        "print(b)\n",
        "b.append(3)\n",
        "c=tuple(b)\n",
        "print(c)"
      ],
      "metadata": {
        "id": "o7f4-wxGGnrA",
        "outputId": "4b1e1f9f-f466-4791-b887-ed03bf4d101f",
        "colab": {
          "base_uri": "https://localhost:8080/"
        }
      },
      "execution_count": 35,
      "outputs": [
        {
          "output_type": "stream",
          "name": "stdout",
          "text": [
            "[1, 2]\n",
            "(1, 2, 3)\n"
          ]
        }
      ]
    },
    {
      "cell_type": "code",
      "source": [
        "a=(1,2,3,4)\n",
        "for i in a:\n",
        "  print(i)"
      ],
      "metadata": {
        "id": "8YEa8spvHRxX",
        "outputId": "326560f8-c295-4188-b215-563d6c673c4c",
        "colab": {
          "base_uri": "https://localhost:8080/"
        }
      },
      "execution_count": 36,
      "outputs": [
        {
          "output_type": "stream",
          "name": "stdout",
          "text": [
            "1\n",
            "2\n",
            "3\n",
            "4\n"
          ]
        }
      ]
    },
    {
      "cell_type": "code",
      "source": [
        "#  Dictornieries are nothing but naming the index\n",
        "a={'india':'delhi','russia':'mascow'}\n",
        "print(a['india'])\n",
        "print(a)\n"
      ],
      "metadata": {
        "id": "BTWgRGC2ILrI",
        "outputId": "2a8220eb-8e24-408d-e344-4e8332365fe3",
        "colab": {
          "base_uri": "https://localhost:8080/"
        }
      },
      "execution_count": 40,
      "outputs": [
        {
          "output_type": "stream",
          "name": "stdout",
          "text": [
            "delhi\n",
            "{'india': 'delhi', 'russia': 'mascow'}\n"
          ]
        }
      ]
    },
    {
      "cell_type": "code",
      "source": [
        "b=dict(name=\"jiji\",age=21)\n",
        "print(b)\n",
        "b['name']\n"
      ],
      "metadata": {
        "id": "VU-x_MKwJi4e",
        "outputId": "4f2b292a-8923-46c8-a03f-548b52151f4c",
        "colab": {
          "base_uri": "https://localhost:8080/",
          "height": 52
        }
      },
      "execution_count": 42,
      "outputs": [
        {
          "output_type": "stream",
          "name": "stdout",
          "text": [
            "{'name': 'jiji', 'age': 21}\n"
          ]
        },
        {
          "output_type": "execute_result",
          "data": {
            "text/plain": [
              "'jiji'"
            ],
            "application/vnd.google.colaboratory.intrinsic+json": {
              "type": "string"
            }
          },
          "metadata": {},
          "execution_count": 42
        }
      ]
    },
    {
      "cell_type": "code",
      "source": [
        "for i in b:\n",
        "  print(i)\n",
        "  print(b[i])"
      ],
      "metadata": {
        "id": "qB4_hJTUJk2w",
        "outputId": "a6cca1c4-ce21-4063-84c3-1fe530fe6393",
        "colab": {
          "base_uri": "https://localhost:8080/"
        }
      },
      "execution_count": 44,
      "outputs": [
        {
          "output_type": "stream",
          "name": "stdout",
          "text": [
            "name\n",
            "jiji\n",
            "age\n",
            "21\n"
          ]
        }
      ]
    },
    {
      "cell_type": "code",
      "source": [
        "# to fetch all the keys\n",
        "x=b.keys()\n",
        "print(x)"
      ],
      "metadata": {
        "id": "fOS5DsuWNAQp",
        "outputId": "f6e8fade-1e53-40a5-93e6-b3f7b8af2206",
        "colab": {
          "base_uri": "https://localhost:8080/"
        }
      },
      "execution_count": 45,
      "outputs": [
        {
          "output_type": "stream",
          "name": "stdout",
          "text": [
            "dict_keys(['name', 'age'])\n"
          ]
        }
      ]
    },
    {
      "cell_type": "code",
      "source": [
        "# to fetch all the values\n",
        "x=b.values()\n",
        "print(x)"
      ],
      "metadata": {
        "id": "aVjh0vGGNPYf",
        "outputId": "1126e6db-9daa-41ac-82e3-e413a5e5a84b",
        "colab": {
          "base_uri": "https://localhost:8080/"
        }
      },
      "execution_count": 46,
      "outputs": [
        {
          "output_type": "stream",
          "name": "stdout",
          "text": [
            "dict_values(['jiji', 21])\n"
          ]
        }
      ]
    },
    {
      "cell_type": "code",
      "source": [
        "# to get both ekeys and values\n",
        "z=b.items()\n",
        "print(z)"
      ],
      "metadata": {
        "id": "fZUu5RXnNTqW",
        "outputId": "dc2ac3a6-5ee0-4b2f-d419-a26098737677",
        "colab": {
          "base_uri": "https://localhost:8080/"
        }
      },
      "execution_count": 47,
      "outputs": [
        {
          "output_type": "stream",
          "name": "stdout",
          "text": [
            "dict_items([('name', 'jiji'), ('age', 21)])\n"
          ]
        }
      ]
    },
    {
      "cell_type": "code",
      "source": [
        "# to change the value\n",
        "b['name']=\"him\"\n",
        "print(b)"
      ],
      "metadata": {
        "id": "XFA6blFgNfFs",
        "outputId": "efc4ed95-65cb-4cbe-f625-9458ac778910",
        "colab": {
          "base_uri": "https://localhost:8080/"
        }
      },
      "execution_count": 48,
      "outputs": [
        {
          "output_type": "stream",
          "name": "stdout",
          "text": [
            "{'name': 'him', 'age': 21}\n"
          ]
        }
      ]
    },
    {
      "cell_type": "code",
      "source": [
        "# we can use update also\n",
        "b.update({\"name\":\"king\"})\n",
        "print(b)"
      ],
      "metadata": {
        "id": "wVBw-HUyNqt8",
        "outputId": "de967dea-32b0-4674-d9f8-b579afd4b8d7",
        "colab": {
          "base_uri": "https://localhost:8080/"
        }
      },
      "execution_count": 49,
      "outputs": [
        {
          "output_type": "stream",
          "name": "stdout",
          "text": [
            "{'name': 'king', 'age': 21}\n"
          ]
        }
      ]
    },
    {
      "cell_type": "code",
      "source": [
        "# to add a element\n",
        "b['school']=\"bhash\"\n",
        "print(b)"
      ],
      "metadata": {
        "id": "3psApM47N3AN",
        "outputId": "161cf8a5-175d-49c9-992f-8ce5baaabfaa",
        "colab": {
          "base_uri": "https://localhost:8080/"
        }
      },
      "execution_count": 51,
      "outputs": [
        {
          "output_type": "stream",
          "name": "stdout",
          "text": [
            "{'name': 'king', 'age': 21, 'school': 'bhash'}\n"
          ]
        }
      ]
    },
    {
      "cell_type": "code",
      "source": [
        "# to delete the element\n",
        "# .popitem()======> this will delete the last element\n",
        "# del b ===> it will delete dict\n",
        "# del b['name'] ===> it will delete te name\n",
        "b.pop(\"school\")\n",
        "print(b)"
      ],
      "metadata": {
        "id": "qbWbixvAN7ru",
        "outputId": "4ce11722-db80-403b-93ed-471191a5b992",
        "colab": {
          "base_uri": "https://localhost:8080/"
        }
      },
      "execution_count": 52,
      "outputs": [
        {
          "output_type": "stream",
          "name": "stdout",
          "text": [
            "{'name': 'king', 'age': 21}\n"
          ]
        }
      ]
    },
    {
      "cell_type": "code",
      "source": [
        "#################################################\n",
        "# NUMPY #\n",
        "# Numerical Python\n",
        "import numpy as np\n",
        "arr = np.array([1,2,3,4,5])\n",
        "print(arr)\n",
        "print(arr.size)\n",
        "print(arr.shape)\n",
        "print(arr.dtype)\n",
        "print(arr.ndim)"
      ],
      "metadata": {
        "id": "xanAeHb7OOHe",
        "outputId": "d5d64a74-a545-4caf-cb3b-8bef1c9628d6",
        "colab": {
          "base_uri": "https://localhost:8080/"
        }
      },
      "execution_count": 58,
      "outputs": [
        {
          "output_type": "stream",
          "name": "stdout",
          "text": [
            "[1 2 3 4 5]\n",
            "5\n",
            "(5,)\n",
            "int64\n",
            "1\n"
          ]
        }
      ]
    },
    {
      "cell_type": "code",
      "source": [
        "# 2d array\n",
        "arr2 = np.array([[1,2,3],[4,5,6]])\n",
        "print(arr2)\n",
        "print(arr2.size)\n",
        "print(arr2.shape)\n",
        "print(arr2.dtype)\n",
        "print(arr2.ndim)"
      ],
      "metadata": {
        "id": "uRGO-s-9SsQJ",
        "outputId": "1ff90db4-1f67-4217-b1c2-d3f3619f5166",
        "colab": {
          "base_uri": "https://localhost:8080/"
        }
      },
      "execution_count": 61,
      "outputs": [
        {
          "output_type": "stream",
          "name": "stdout",
          "text": [
            "[[1 2 3]\n",
            " [4 5 6]]\n",
            "6\n",
            "(2, 3)\n",
            "int64\n",
            "2\n"
          ]
        }
      ]
    },
    {
      "cell_type": "code",
      "source": [
        "arr3 = np.array([[[1,2,3],[4,5,6]],[[11,22,33],[44,55,66]]])\n",
        "print(arr3)\n",
        "print(arr3.size)\n",
        "print(arr3.shape)\n",
        "print(arr3.dtype)\n",
        "print(arr3.ndim)"
      ],
      "metadata": {
        "id": "SoHnp11GTGxr",
        "outputId": "ea9e670a-d91d-4e30-88f6-08cc6a045982",
        "colab": {
          "base_uri": "https://localhost:8080/"
        }
      },
      "execution_count": 63,
      "outputs": [
        {
          "output_type": "stream",
          "name": "stdout",
          "text": [
            "[[[ 1  2  3]\n",
            "  [ 4  5  6]]\n",
            "\n",
            " [[11 22 33]\n",
            "  [44 55 66]]]\n",
            "12\n",
            "(2, 2, 3)\n",
            "int64\n",
            "3\n"
          ]
        }
      ]
    },
    {
      "cell_type": "code",
      "source": [],
      "metadata": {
        "id": "r9HvvzW_TeY3"
      },
      "execution_count": null,
      "outputs": []
    }
  ]
}